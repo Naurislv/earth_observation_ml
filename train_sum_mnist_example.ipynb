{
 "cells": [
  {
   "cell_type": "code",
   "execution_count": 1,
   "metadata": {},
   "outputs": [
    {
     "name": "stderr",
     "output_type": "stream",
     "text": [
      "Using TensorFlow backend.\n"
     ]
    },
    {
     "data": {
      "text/html": [
       "<style>.container { width:80% !important; }</style>"
      ],
      "text/plain": [
       "<IPython.core.display.HTML object>"
      ]
     },
     "metadata": {},
     "output_type": "display_data"
    }
   ],
   "source": [
    "%matplotlib inline\n",
    "\n",
    "# Dependecy imports\n",
    "from keras.models import Sequential\n",
    "from keras.layers import Dense, Flatten, Conv3D, Conv2D, Dropout, BatchNormalization\n",
    "from keras.optimizers import adam\n",
    "from keras.utils.data_utils import Sequence\n",
    "import keras.backend.tensorflow_backend as K\n",
    "from keras import callbacks\n",
    "from keras.utils import np_utils\n",
    "\n",
    "import matplotlib.pyplot as plt\n",
    "\n",
    "# Set Keras TF backend allow_growth not to consume all GPU memory\n",
    "K_CONFIG = K.tf.ConfigProto()\n",
    "K_CONFIG.allow_soft_placement = True\n",
    "K_CONFIG.gpu_options.allow_growth = True # pylint: disable=E1101\n",
    "K.set_session(K.tf.Session(config=K_CONFIG))\n",
    "\n",
    "from IPython.core.display import display, HTML\n",
    "display(HTML(\"<style>.container { width:80% !important; }</style>\"))"
   ]
  },
  {
   "cell_type": "code",
   "execution_count": 2,
   "metadata": {},
   "outputs": [
    {
     "name": "stdout",
     "output_type": "stream",
     "text": [
      "WARNING:tensorflow:From <ipython-input-2-8f09c6744171>:3: read_data_sets (from tensorflow.contrib.learn.python.learn.datasets.mnist) is deprecated and will be removed in a future version.\n",
      "Instructions for updating:\n",
      "Please use alternatives such as official/mnist/dataset.py from tensorflow/models.\n",
      "WARNING:tensorflow:From /home/nauris/anaconda3/lib/python3.6/site-packages/tensorflow/contrib/learn/python/learn/datasets/mnist.py:260: maybe_download (from tensorflow.contrib.learn.python.learn.datasets.base) is deprecated and will be removed in a future version.\n",
      "Instructions for updating:\n",
      "Please write your own downloading logic.\n",
      "WARNING:tensorflow:From /home/nauris/anaconda3/lib/python3.6/site-packages/tensorflow/contrib/learn/python/learn/datasets/mnist.py:262: extract_images (from tensorflow.contrib.learn.python.learn.datasets.mnist) is deprecated and will be removed in a future version.\n",
      "Instructions for updating:\n",
      "Please use tf.data to implement this functionality.\n",
      "Extracting data/MNIST_data/train-images-idx3-ubyte.gz\n",
      "WARNING:tensorflow:From /home/nauris/anaconda3/lib/python3.6/site-packages/tensorflow/contrib/learn/python/learn/datasets/mnist.py:267: extract_labels (from tensorflow.contrib.learn.python.learn.datasets.mnist) is deprecated and will be removed in a future version.\n",
      "Instructions for updating:\n",
      "Please use tf.data to implement this functionality.\n",
      "Extracting data/MNIST_data/train-labels-idx1-ubyte.gz\n",
      "Extracting data/MNIST_data/t10k-images-idx3-ubyte.gz\n",
      "Extracting data/MNIST_data/t10k-labels-idx1-ubyte.gz\n",
      "WARNING:tensorflow:From /home/nauris/anaconda3/lib/python3.6/site-packages/tensorflow/contrib/learn/python/learn/datasets/mnist.py:290: DataSet.__init__ (from tensorflow.contrib.learn.python.learn.datasets.mnist) is deprecated and will be removed in a future version.\n",
      "Instructions for updating:\n",
      "Please use alternatives such as official/mnist/dataset.py from tensorflow/models.\n"
     ]
    }
   ],
   "source": [
    "from tensorflow.examples.tutorials.mnist import input_data\n",
    "\n",
    "mnist = input_data.read_data_sets(\"data/MNIST_data/\", one_hot=False, reshape=False)"
   ]
  },
  {
   "cell_type": "code",
   "execution_count": 3,
   "metadata": {},
   "outputs": [
    {
     "name": "stdout",
     "output_type": "stream",
     "text": [
      "Label distribution [(1, 2394), (2, 2588), (3, 3020), (4, 2346), (5, 1652)]\n",
      "\n",
      "train_data: (10000, 7, 28, 28, 1), train_labels: (10000, 6)\n",
      "valid_data: (2000, 7, 28, 28, 1), valid_labels: (2000, 6)\n"
     ]
    }
   ],
   "source": [
    "import numpy as np\n",
    "\n",
    "def generate_data(dataset_size=10, seq_len=16, conv2d=False):\n",
    "\n",
    "    train_data = []\n",
    "    train_labels = []\n",
    "    \n",
    "    def to_one_hot(arr):\n",
    "        bins = [0, 25, 30, 35, 40, 100]\n",
    "\n",
    "        labels = np.digitize(arr, bins)\n",
    "        one_hot_labels = np_utils.to_categorical(labels)\n",
    "\n",
    "        y = np.bincount(labels)\n",
    "        ii = np.nonzero(y)[0]\n",
    "        print('Label distribution', list(zip(ii, y[ii])))\n",
    "        \n",
    "        return one_hot_labels\n",
    "\n",
    "    for _ in range(dataset_size):\n",
    "        _data, _labels = mnist.train.next_batch(batch_size=seq_len, shuffle=True)\n",
    "\n",
    "        train_data.append(_data)\n",
    "        train_labels.append(_labels.sum())\n",
    "    \n",
    "    all_data = np.array(train_data)\n",
    "    \n",
    "    if conv2d:\n",
    "        all_data = np.transpose(all_data, (0, 4, 2, 3, 1))[:, 0, :, :, :]\n",
    "    \n",
    "    all_labels = to_one_hot(np.array(train_labels))\n",
    "\n",
    "    return all_data[0:-2000], all_labels[0:-2000], all_data[-2000:], all_labels[-2000:] \n",
    "\n",
    "train_data, train_labels, valid_data, valid_labels = generate_data(dataset_size=12000, seq_len=7, conv2d=False)\n",
    "\n",
    "print()\n",
    "print(f'train_data: {train_data.shape}, train_labels: {train_labels.shape}')\n",
    "print(f'valid_data: {valid_data.shape}, valid_labels: {valid_labels.shape}')"
   ]
  },
  {
   "cell_type": "code",
   "execution_count": 4,
   "metadata": {},
   "outputs": [],
   "source": [
    "def conv3d_model(dshape, dense_nn=100, kernel_size_0=1, kernel_size_1=7, activation='relu', dropout=False, l_r=0.001):\n",
    "    \"\"\"Create keras model.\"\"\"\n",
    "    seq_model = Sequential()\n",
    "\n",
    "    seq_model.add(Conv3D(24, (kernel_size_0, kernel_size_1, kernel_size_1), padding='valid', activation=activation,\n",
    "                         strides=(1, 1, 1), input_shape=(dshape[0], dshape[1], dshape[2], dshape[3])))\n",
    "    seq_model.add(BatchNormalization())\n",
    "    seq_model.add(Conv3D(36, (kernel_size_0, kernel_size_1, kernel_size_1), padding='valid', activation=activation, strides=(1, 1, 1)))\n",
    "    seq_model.add(BatchNormalization())\n",
    "    seq_model.add(Conv3D(48, (kernel_size_0, kernel_size_1, kernel_size_1), padding='valid', activation=activation))\n",
    "    seq_model.add(BatchNormalization())\n",
    "    seq_model.add(Conv3D(64, (kernel_size_0, kernel_size_1, kernel_size_1), padding='valid', activation=activation))\n",
    "    seq_model.add(BatchNormalization())\n",
    "    seq_model.add(Flatten())\n",
    "    seq_model.add(Dense(dense_nn, activation=activation))\n",
    "    seq_model.add(BatchNormalization())\n",
    "    if dropout:\n",
    "        seq_model.add(Dropout(0.3))\n",
    "    seq_model.add(Dense(dense_nn // 2, activation=activation))\n",
    "    seq_model.add(BatchNormalization())\n",
    "    if dropout:\n",
    "        seq_model.add(Dropout(0.3))\n",
    "    seq_model.add(Dense(dense_nn // 5, activation=activation))\n",
    "    seq_model.add(BatchNormalization())\n",
    "    if dropout:\n",
    "        seq_model.add(Dropout(0.1))\n",
    "    seq_model.add(Dense(6, activation='softmax'))\n",
    "\n",
    "    seq_model.compile(loss='categorical_crossentropy', optimizer=adam(lr=l_r), metrics=['accuracy'])\n",
    "\n",
    "    # seq_model.summary()\n",
    "\n",
    "    return seq_model"
   ]
  },
  {
   "cell_type": "code",
   "execution_count": 5,
   "metadata": {},
   "outputs": [],
   "source": [
    "def conv2d_model(dshape, activation, dropout=False, l_r=0.001):\n",
    "    \"\"\"Create keras model.\"\"\"\n",
    "    seq_model = Sequential()\n",
    "\n",
    "    seq_model.add(Conv2D(48, (8, 8), padding='valid', activation=activation,\n",
    "                         strides=(1, 1), input_shape=(dshape[0], dshape[1], dshape[2])))\n",
    "    seq_model.add(BatchNormalization())\n",
    "    seq_model.add(Conv2D(48, (7, 7), padding='valid', activation=activation, strides=(1, 1)))\n",
    "    seq_model.add(BatchNormalization())\n",
    "    seq_model.add(Conv2D(64, (6, 6), padding='valid', activation=activation))\n",
    "    seq_model.add(BatchNormalization())\n",
    "    seq_model.add(Conv2D(64, (4, 4), padding='valid', activation=activation))\n",
    "    seq_model.add(BatchNormalization())\n",
    "    seq_model.add(Flatten())\n",
    "    seq_model.add(Dense(100, activation=activation))\n",
    "    seq_model.add(BatchNormalization())\n",
    "    if dropout:\n",
    "        seq_model.add(Dropout(0.3))\n",
    "    seq_model.add(Dense(50, activation=activation))\n",
    "    seq_model.add(BatchNormalization())\n",
    "    if dropout:\n",
    "        seq_model.add(Dropout(0.3))\n",
    "    seq_model.add(Dense(10, activation=activation))\n",
    "    seq_model.add(BatchNormalization())\n",
    "    if dropout:\n",
    "        seq_model.add(Dropout(0.1))\n",
    "    seq_model.add(Dense(6, activation='softmax'))\n",
    "\n",
    "    seq_model.compile(loss='categorical_crossentropy', optimizer=adam(lr=l_r), metrics=['accuracy'])\n",
    "\n",
    "    # seq_model.summary()\n",
    "\n",
    "    return seq_model"
   ]
  },
  {
   "cell_type": "code",
   "execution_count": 8,
   "metadata": {},
   "outputs": [
    {
     "name": "stdout",
     "output_type": "stream",
     "text": [
      "Train on 10000 samples, validate on 2000 samples\n",
      "Epoch 1/5\n",
      "10000/10000 [==============================] - 8s 840us/step - loss: 1.6540 - acc: 0.3186 - val_loss: 1.3381 - val_acc: 0.4180\n",
      "Epoch 2/5\n",
      "10000/10000 [==============================] - 6s 632us/step - loss: 1.1065 - acc: 0.5245 - val_loss: 0.9438 - val_acc: 0.5800\n",
      "Epoch 3/5\n",
      "10000/10000 [==============================] - 6s 632us/step - loss: 0.8522 - acc: 0.6359 - val_loss: 0.7777 - val_acc: 0.6625\n",
      "Epoch 4/5\n",
      "10000/10000 [==============================] - 6s 630us/step - loss: 0.7416 - acc: 0.6840 - val_loss: 0.7182 - val_acc: 0.6790\n",
      "Epoch 5/5\n",
      "10000/10000 [==============================] - 6s 639us/step - loss: 0.6684 - acc: 0.7206 - val_loss: 0.7023 - val_acc: 0.6880\n"
     ]
    }
   ],
   "source": [
    "keras_model = conv3d_model(train_data[0].shape)\n",
    "train_history = keras_model.fit(\n",
    "    x=train_data,\n",
    "    y=train_labels,\n",
    "    batch_size=32,\n",
    "    epochs=5,\n",
    "    verbose=1,\n",
    "    shuffle=True,\n",
    "    validation_data=(valid_data, valid_labels)\n",
    ")"
   ]
  },
  {
   "cell_type": "markdown",
   "metadata": {},
   "source": [
    "# Parameter search"
   ]
  },
  {
   "cell_type": "code",
   "execution_count": 6,
   "metadata": {},
   "outputs": [],
   "source": [
    "from keras.wrappers.scikit_learn import KerasClassifier\n",
    "from sklearn.model_selection import GridSearchCV"
   ]
  },
  {
   "cell_type": "code",
   "execution_count": 9,
   "metadata": {},
   "outputs": [],
   "source": [
    "# create model\n",
    "model = KerasClassifier(build_fn=conv3d_model, verbose=0)\n",
    "\n",
    "param_grid = dict(\n",
    "    batch_size=[4, 8, 16, 32, 64],\n",
    "    epochs=[10, 15, 20, 25, 30],\n",
    "    dshape=[train_data[0].shape],\n",
    "    activation=['selu', 'relu'],\n",
    "    dropout=[True, False],\n",
    "    kernel_size_0 = [1, 2],\n",
    "    kernel_size_1 = [4, 6, 7],\n",
    "    dense_nn = [50, 100, 200, 500]\n",
    ")\n",
    "\n",
    "grid = GridSearchCV(\n",
    "    estimator=model,\n",
    "    param_grid=param_grid,\n",
    "    return_train_score=True,\n",
    "    refit='precision_macro',\n",
    "    # scoring=dict(validation_data=[(valid_data, valid_labels)]),\n",
    "    # n_jobs=10\n",
    ")"
   ]
  },
  {
   "cell_type": "code",
   "execution_count": null,
   "metadata": {
    "scrolled": false
   },
   "outputs": [
    {
     "name": "stdout",
     "output_type": "stream",
     "text": [
      "Running hyperparameter search.\n"
     ]
    }
   ],
   "source": [
    "print('Running hyperparameter search.')\n",
    "grid_result = grid.fit(train_data, train_labels)\n",
    "\n",
    "# summarize results\n",
    "print(\"Best: %f using %s\" % (grid_result.best_score_, grid_result.best_params_))\n",
    "\n",
    "means = grid_result.cv_results_['mean_test_score']\n",
    "stds = grid_result.cv_results_['std_test_score']\n",
    "params = grid_result.cv_results_['params']\n",
    "\n",
    "for mean, stdev, param in zip(means, stds, params):\n",
    "    print(\"%f (%f) with: %r\" % (mean, stdev, param))"
   ]
  }
 ],
 "metadata": {
  "kernelspec": {
   "display_name": "Python 3",
   "language": "python",
   "name": "python3"
  },
  "language_info": {
   "codemirror_mode": {
    "name": "ipython",
    "version": 3
   },
   "file_extension": ".py",
   "mimetype": "text/x-python",
   "name": "python",
   "nbconvert_exporter": "python",
   "pygments_lexer": "ipython3",
   "version": "3.6.5"
  }
 },
 "nbformat": 4,
 "nbformat_minor": 2
}
