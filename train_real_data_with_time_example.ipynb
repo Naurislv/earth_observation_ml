{
 "cells": [
  {
   "cell_type": "code",
   "execution_count": 3,
   "metadata": {},
   "outputs": [
    {
     "name": "stdout",
     "output_type": "stream",
     "text": [
      "The autoreload extension is already loaded. To reload it, use:\n",
      "  %reload_ext autoreload\n"
     ]
    },
    {
     "data": {
      "text/html": [
       "<style>.container { width:90% !important; }</style>"
      ],
      "text/plain": [
       "<IPython.core.display.HTML object>"
      ]
     },
     "metadata": {},
     "output_type": "display_data"
    }
   ],
   "source": [
    "%load_ext autoreload\n",
    "%autoreload 2\n",
    "%matplotlib inline\n",
    "\n",
    "# Standard imports\n",
    "import logging\n",
    "import itertools\n",
    "import random\n",
    "from pprint import pprint\n",
    "\n",
    "logging.basicConfig(format='%(asctime)s %(levelname)s: %(message)s', level=logging.INFO)\n",
    "\n",
    "# Dependecy imports\n",
    "import numpy as np\n",
    "import matplotlib.pyplot as plt\n",
    "\n",
    "from keras.models import Sequential\n",
    "from keras.layers import Dense, Flatten, Conv3D, Dropout, BatchNormalization\n",
    "from keras.optimizers import adam\n",
    "import keras.backend.tensorflow_backend as K\n",
    "from keras import initializers, regularizers\n",
    "\n",
    "# Hyperparameter tuning\n",
    "from livelossplot import PlotLossesKeras\n",
    "\n",
    "# Set Keras TF backend allow_growth not to consume all GPU memory\n",
    "# K_CONFIG = K.tf.ConfigProto()\n",
    "# K_CONFIG.allow_soft_placement = True\n",
    "# K_CONFIG.gpu_options.allow_growth = True # pylint: disable=E1101\n",
    "# K.set_session(K.tf.Session(config=K_CONFIG))\n",
    "\n",
    "# Local imports\n",
    "from utils.data import Generator, Augmentation\n",
    "from utils.visualization import pim, plot_confusion_matrix\n",
    "from utils.keras_utils import save_keras_model\n",
    "\n",
    "from models.keras_net_defs import conv3d_model\n",
    "\n",
    "from IPython.core.display import display, HTML\n",
    "display(HTML(\"<style>.container { width:90% !important; }</style>\"))"
   ]
  },
  {
   "cell_type": "markdown",
   "metadata": {},
   "source": [
    "# Load Train generator and Valid data"
   ]
  },
  {
   "cell_type": "code",
   "execution_count": 2,
   "metadata": {},
   "outputs": [
    {
     "name": "stderr",
     "output_type": "stream",
     "text": [
      "2018-06-05 19:15:35,282 INFO: number of directories found 354\n"
     ]
    },
    {
     "name": "stdout",
     "output_type": "stream",
     "text": [
      "{'total': 999936, 0: 414487, 1: 508370, 2: 77079}\n",
      "{0: [0.0, 351.0, 118.0237055171531],\n",
      " 1: [0.0, 842.0, 216.08301331285202],\n",
      " 2: [0.0, 2926.0, 755.6997567844342],\n",
      " 3: [0.0, 4146.0, 1574.7520481310803],\n",
      " 4: [0.0, 5197.0, 1851.952892985151],\n",
      " 5: [0.0, 5529.0, 2052.6966205837175],\n",
      " 6: [0.0, 4315.0, 1109.224398361495],\n",
      " 7: [0.0, 3839.0, 550.2943548387096],\n",
      " 8: [0.0, 2853.0, 468.9477086533538],\n",
      " 9: [0.0, 2398.0, 692.8005632360471],\n",
      " 10: [0.0, 2275.0, 834.3107398873528],\n",
      " 11: [0.0, 4812.0, 1825.784178187404]}\n",
      "{0: 2.412466494727217, 1: 1.9669453350905837, 2: 12.972871988479353}\n"
     ]
    }
   ],
   "source": [
    "CLASS_MAPS = {1: 0, 3: 1, 4: 2, 999: 4}\n",
    "\n",
    "train_generator = Generator(\n",
    "    class_maps=CLASS_MAPS,\n",
    "    nb_time=1,\n",
    "    reg_size=15,\n",
    "    vegetation_layers=False,\n",
    "    data_dir='../data/_train/',\n",
    "    batch_size=128,\n",
    "    batch_size_polygons=200\n",
    ")\n",
    "\n",
    "\n",
    "sample_size = 1000000 # The highest better\n",
    "train_generator.norms_and_weights(sample_size)\n",
    "train_gen = train_generator.from_files(norm=True, augment=True)\n",
    "\n",
    "NORMS = train_generator.norms\n",
    "CLASS_WEIGHT = train_generator.class_weight\n",
    "\n",
    "pprint(NORMS)\n",
    "pprint(CLASS_WEIGHT)"
   ]
  },
  {
   "cell_type": "code",
   "execution_count": 3,
   "metadata": {},
   "outputs": [
    {
     "name": "stderr",
     "output_type": "stream",
     "text": [
      "2018-06-05 19:16:08,054 INFO: number of directories found 22\n"
     ]
    },
    {
     "name": "stdout",
     "output_type": "stream",
     "text": [
      "(4080, 1, 15, 15, 12) (4080, 4)\n",
      "{0: 733, 1: 2410, 2: 937}\n",
      "Best guess: 59.07%\n"
     ]
    }
   ],
   "source": [
    "valid_generator = Generator(\n",
    "    class_maps=CLASS_MAPS,\n",
    "    norms=NORMS,\n",
    "    nb_time=1,\n",
    "    reg_size=15,\n",
    "    vegetation_layers=False,\n",
    "    data_dir='../data/_valid/',\n",
    "    batch_size=10000,\n",
    "    batch_size_polygons=100\n",
    ")\n",
    "\n",
    "valid_gen = valid_generator.from_files(norm=True, augment=False)\n",
    "valid_data, valid_labels = next(valid_gen)\n",
    "print(valid_data.shape, valid_labels.shape)\n",
    "\n",
    "def n_unique(arr, val_dict):\n",
    "    \"\"\"Count unique values\"\"\"\n",
    "    bincount = np.bincount(arr)\n",
    "    b_ii = np.nonzero(bincount)[0]\n",
    "\n",
    "    for val, count in zip(b_ii, bincount[b_ii]):\n",
    "\n",
    "        if val not in val_dict:\n",
    "            val_dict[val] = count\n",
    "        else:\n",
    "            val_dict[val] += count\n",
    "\n",
    "    return val_dict\n",
    "\n",
    "unique_classes = n_unique(np.argmax(valid_labels, axis=1), {})\n",
    "vals = [val for val in unique_classes.values()]\n",
    "\n",
    "pprint(unique_classes)\n",
    "print(f'Best guess: {round(100 * max(vals) / sum(vals), 2)}%')"
   ]
  },
  {
   "cell_type": "markdown",
   "metadata": {},
   "source": [
    "# Augment trainset\n",
    "\n",
    "We can generate more train data by rotating 3 times by 90 degrees and then flip and then flip rotated image by 180 degrees\n",
    "\n",
    "1. original\n",
    "2. 1 x rot90\n",
    "3. 2 x rot90\n",
    "4. 3 x rot90\n",
    "5. flip original\n",
    "6. flip original and rotate 180"
   ]
  },
  {
   "cell_type": "markdown",
   "metadata": {},
   "source": [
    "## Testing augmentation"
   ]
  },
  {
   "cell_type": "code",
   "execution_count": 4,
   "metadata": {},
   "outputs": [],
   "source": [
    "augm = Augmentation()"
   ]
  },
  {
   "cell_type": "code",
   "execution_count": 5,
   "metadata": {},
   "outputs": [
    {
     "name": "stderr",
     "output_type": "stream",
     "text": [
      "2018-06-05 19:16:08,278 INFO: number of directories found 354\n"
     ]
    },
    {
     "name": "stdout",
     "output_type": "stream",
     "text": [
      "Comparing each element with eachother to check if augmentation didnt create duplicates\n",
      "False False False False False False False False False False False False False False False "
     ]
    },
    {
     "data": {
      "image/png": "[encoded data removed]",
      "text/plain": [
       "<Figure size 1440x144 with 6 Axes>"
      ]
     },
     "metadata": {},
     "output_type": "display_data"
    },
    {
     "data": {
      "image/png": "[encoded data removed]",
      "text/plain": [
       "<Figure size 1440x144 with 6 Axes>"
      ]
     },
     "metadata": {},
     "output_type": "display_data"
    }
   ],
   "source": [
    "test_sample = next(train_gen)[0][0:1]\n",
    "\n",
    "orig = test_sample[0, 0, :, :, 0]\n",
    "rot_90 = augm.rot90(test_sample)[0, 0, :, :, 0]\n",
    "rot_180 = augm.rot180(test_sample)[0, 0, :, :, 0]\n",
    "rot_270 = augm.rot270(test_sample)[0, 0, :, :, 0]\n",
    "flip = augm.flip(test_sample)[0, 0, :, :, 0]\n",
    "flip180 = augm.flip_rot90(test_sample)[0, 0, :, :, 0]\n",
    "\n",
    "plot_sampels = [orig, rot_90, rot_180, rot_270, flip, flip180]\n",
    "random_samples = [augm.random_augm(test_sample)[0, 0, :, :, 0] for _ in range(6)]\n",
    "\n",
    "print('Comparing each element with eachother to check if augmentation didnt create duplicates')\n",
    "for smpl_0, smpl_1 in itertools.combinations(plot_sampels, 2):\n",
    "    print(np.array_equal(smpl_0, smpl_1), end=' ')\n",
    "\n",
    "pim(plot_sampels)\n",
    "pim(random_samples)"
   ]
  },
  {
   "cell_type": "code",
   "execution_count": 7,
   "metadata": {},
   "outputs": [],
   "source": [
    "def train_model_gen(data_dir, norms, class_maps, params, steps_per_epoch):\n",
    "    \n",
    "    keras_model = conv3d_model(4, params, summary=True)\n",
    "\n",
    "    history = keras_model.fit_generator(\n",
    "        train_gen,\n",
    "        steps_per_epoch=steps_per_epoch,\n",
    "        epochs=params['epochs'],\n",
    "        verbose=1,\n",
    "        validation_data=(valid_data, valid_labels),\n",
    "        class_weight=CLASS_WEIGHT,\n",
    "        shuffle=True,\n",
    "        workers=8,\n",
    "        max_queue_size=int(steps_per_epoch * 2.2), # How many batches in the queue\n",
    "        # callbacks=[PlotLossesKeras()]\n",
    "    )\n",
    "    \n",
    "    return history, keras_model"
   ]
  },
  {
   "cell_type": "markdown",
   "metadata": {},
   "source": [
    "### 1. place\n",
    "\n",
    "```\n",
    "06/03/2018 12:56:53 AM - INFO - {'__cnn_dropout_1': 0.3, '__cnn_dropout_2': 0.7, '__cnn_dropout_3': 0.2, '__cnn_dropout_4': 0.5, '__cnn_ksize_1': 1, '__cnn_ksize_2': 6, '__cnn_ksize_3': 5, '__cnn_ksize_4': 6, '__cnn_neurons_1': 512, '__cnn_neurons_2': 128, '__cnn_neurons_3': 16, '__cnn_neurons_4': 128, '__dense_dropout_1': 0.8, '__dense_dropout_2': 0.8, '__dense_dropout_3': 0.8, '__dense_dropout_4': 0.3, '__dense_neurons_1': 128, '__dense_neurons_2': 8, '__dense_neurons_3': 16, '__dense_neurons_4': 32, 'activation_cnn': 'relu', 'activation_dense': 'elu', 'batch_norm': True, 'batch_size': 128, 'class_weight': True, 'dshape': (1, 15, 15, 12), 'epochs': 20, 'l2_reg': 0.001, 'l_r': 1e-05, 'nb_cnn_layers': 2, 'nb_dense_layers': 1, '__dense_neurons': [], '__cnn_neurons': [512]}\n",
    "06/03/2018 12:56:53 AM - INFO - Acc: 87.26%\n",
    "06/03/2018 12:56:53 AM - INFO - UniID: 781\n",
    "06/03/2018 12:56:53 AM - INFO - Mom and Dad: 596 667\n",
    "06/03/2018 12:56:53 AM - INFO - Gen: 8\n",
    "06/03/2018 12:56:53 AM - INFO - Hash: 1a788475ba8075ec5bedffd4b2408c38\n",
    "```"
   ]
  },
  {
   "cell_type": "code",
   "execution_count": 8,
   "metadata": {},
   "outputs": [],
   "source": [
    "PARAMS_1 = {\n",
    "    '__cnn_dropout_1': 0.3, '__cnn_dropout_2': 0.7, '__cnn_dropout_3': 0.2, '__cnn_dropout_4': 0.5,\n",
    "    '__cnn_ksize_1': 1, '__cnn_ksize_2': 6, '__cnn_ksize_3': 5, '__cnn_ksize_4': 6,\n",
    "    '__cnn_neurons_1': 512, '__cnn_neurons_2': 128, '__cnn_neurons_3': 16, '__cnn_neurons_4': 128,\n",
    "    '__dense_dropout_1': 0.8, '__dense_dropout_2': 0.8, '__dense_dropout_3': 0.8, '__dense_dropout_4': 0.3,\n",
    "    '__dense_neurons_1': 128, '__dense_neurons_2': 8, '__dense_neurons_3': 16, '__dense_neurons_4': 32,\n",
    "    'activation_cnn': 'relu',\n",
    "    'activation_dense': 'elu',\n",
    "    'batch_norm': True,\n",
    "    'batch_size': 128,\n",
    "    'class_weight': True,\n",
    "    'dshape': (1, 15, 15, 12),\n",
    "    'epochs': 12,\n",
    "    'l2_reg': 0.001,\n",
    "    'l_r': 1e-05,\n",
    "    'nb_cnn_layers': 2,\n",
    "    'nb_dense_layers': 1,\n",
    "}"
   ]
  },
  {
   "cell_type": "markdown",
   "metadata": {},
   "source": [
    "### 2. place\n",
    "\n",
    "```\n",
    "06/03/2018 12:56:53 AM - INFO - {'__cnn_dropout_1': 0.0, '__cnn_dropout_2': 0.7, '__cnn_dropout_3': 0.2, '__cnn_dropout_4': 0.5, '__cnn_ksize_1': 4, '__cnn_ksize_2': 4, '__cnn_ksize_3': 5, '__cnn_ksize_4': 5, '__cnn_neurons_1': 128, '__cnn_neurons_2': 8, '__cnn_neurons_3': 32, '__cnn_neurons_4': 512, '__dense_dropout_1': 0.0, '__dense_dropout_2': 0.7, '__dense_dropout_3': 0.5, '__dense_dropout_4': 0.3, '__dense_neurons_1': 512, '__dense_neurons_2': 32, '__dense_neurons_3': 8, '__dense_neurons_4': 128, 'activation_cnn': 'relu', 'activation_dense': 'elu', 'batch_norm': True, 'batch_size': 128, 'class_weight': True, 'dshape': (1, 15, 15, 12), 'epochs': 20, 'l2_reg': 0.01, 'l_r': 1e-05, 'nb_cnn_layers': 2, 'nb_dense_layers': 1, '__dense_neurons': [], '__cnn_neurons': [128]}\n",
    "06/03/2018 12:56:53 AM - INFO - Acc: 87.09%\n",
    "06/03/2018 12:56:53 AM - INFO - UniID: 636\n",
    "06/03/2018 12:56:53 AM - INFO - Mom and Dad: 551 568\n",
    "06/03/2018 12:56:53 AM - INFO - Gen: 7\n",
    "06/03/2018 12:56:53 AM - INFO - Hash: ce9584dd64840a975600b008f9215b2c\n",
    "```"
   ]
  },
  {
   "cell_type": "code",
   "execution_count": 9,
   "metadata": {},
   "outputs": [],
   "source": [
    "PARAMS_2 = {\n",
    "    '__cnn_dropout_1': 0.0, '__cnn_dropout_2': 0.7, '__cnn_dropout_3': 0.2, '__cnn_dropout_4': 0.5,\n",
    "    '__cnn_ksize_1': 4, '__cnn_ksize_2': 4, '__cnn_ksize_3': 5, '__cnn_ksize_4': 5,\n",
    "    '__cnn_neurons_1': 128, '__cnn_neurons_2': 8, '__cnn_neurons_3': 32, '__cnn_neurons_4': 512,\n",
    "    '__dense_dropout_1': 0.0, '__dense_dropout_2': 0.7, '__dense_dropout_3': 0.5, '__dense_dropout_4': 0.3,\n",
    "    '__dense_neurons_1': 512, '__dense_neurons_2': 32, '__dense_neurons_3': 8, '__dense_neurons_4': 128,\n",
    "    'activation_cnn': 'relu',\n",
    "    'activation_dense': 'elu',\n",
    "    'batch_norm': True,\n",
    "    'batch_size': 128,\n",
    "    'class_weight': True,\n",
    "    'dshape': (1, 15, 15, 12),\n",
    "    'epochs': 30,\n",
    "    'l2_reg': 0.01,\n",
    "    'l_r': 1e-05,\n",
    "    'nb_cnn_layers': 2,\n",
    "    'nb_dense_layers': 1\n",
    "}"
   ]
  },
  {
   "cell_type": "markdown",
   "metadata": {},
   "source": [
    "### 3. place\n",
    "\n",
    "```\n",
    "06/03/2018 12:56:53 AM - INFO - {'__cnn_dropout_1': 0.0, '__cnn_dropout_2': 0.2, '__cnn_dropout_3': 0.2, '__cnn_dropout_4': 0.5, '__cnn_ksize_1': 4, '__cnn_ksize_2': 4, '__cnn_ksize_3': 5, '__cnn_ksize_4': 5, '__cnn_neurons_1': 512, '__cnn_neurons_2': 128, '__cnn_neurons_3': 512, '__cnn_neurons_4': 4, '__dense_dropout_1': 0.8, '__dense_dropout_2': 0.8, '__dense_dropout_3': 0.8, '__dense_dropout_4': 0.3, '__dense_neurons_1': 128, '__dense_neurons_2': 256, '__dense_neurons_3': 4, '__dense_neurons_4': 4, 'activation_cnn': 'relu', 'activation_dense': 'elu', 'batch_norm': True, 'batch_size': 128, 'class_weight': True, 'dshape': (1, 15, 15, 12), 'epochs': 20, 'l2_reg': 1, 'l_r': 1e-05, 'nb_cnn_layers': 2, 'nb_dense_layers': 1, '__dense_neurons': [], '__cnn_neurons': [512]}\n",
    "06/03/2018 12:56:53 AM - INFO - Acc: 86.96%\n",
    "06/03/2018 12:56:53 AM - INFO - UniID: 798\n",
    "06/03/2018 12:56:53 AM - INFO - Mom and Dad: 636 690\n",
    "06/03/2018 12:56:53 AM - INFO - Gen: 8\n",
    "06/03/2018 12:56:53 AM - INFO - Hash: 2b24ffadb675e226397d3c1f23f74737\n",
    "```"
   ]
  },
  {
   "cell_type": "code",
   "execution_count": 10,
   "metadata": {},
   "outputs": [],
   "source": [
    "PARAMS_3 = {\n",
    "    '__cnn_dropout_1': 0.0, '__cnn_dropout_2': 0.2, '__cnn_dropout_3': 0.2, '__cnn_dropout_4': 0.5,\n",
    "    '__cnn_ksize_1': 4, '__cnn_ksize_2': 4, '__cnn_ksize_3': 5, '__cnn_ksize_4': 5,\n",
    "    '__cnn_neurons_1': 512, '__cnn_neurons_2': 128, '__cnn_neurons_3': 512, '__cnn_neurons_4': 4,\n",
    "    '__dense_dropout_1': 0.8, '__dense_dropout_2': 0.8, '__dense_dropout_3': 0.8, '__dense_dropout_4': 0.3,\n",
    "    '__dense_neurons_1': 128, '__dense_neurons_2': 256, '__dense_neurons_3': 4, '__dense_neurons_4': 4,\n",
    "    'activation_cnn': 'relu',\n",
    "    'activation_dense': 'elu',\n",
    "    'batch_norm': True,\n",
    "    'batch_size': 128,\n",
    "    'class_weight': True,\n",
    "    'dshape': (1, 15, 15, 12),\n",
    "    'epochs': 20,\n",
    "    'l2_reg': 1,\n",
    "    'l_r': 1e-05,\n",
    "    'nb_cnn_layers': 2,\n",
    "    'nb_dense_layers': 1\n",
    "}"
   ]
  },
  {
   "cell_type": "markdown",
   "metadata": {},
   "source": [
    "### 4. place\n",
    "\n",
    "```\n",
    "06/03/2018 12:56:53 AM - INFO - {'__cnn_dropout_1': 0.3, '__cnn_dropout_2': 0.7, '__cnn_dropout_3': 0.2, '__cnn_dropout_4': 0.5, '__cnn_ksize_1': 1, '__cnn_ksize_2': 6, '__cnn_ksize_3': 5, '__cnn_ksize_4': 6, '__cnn_neurons_1': 512, '__cnn_neurons_2': 128, '__cnn_neurons_3': 16, '__cnn_neurons_4': 128, '__dense_dropout_1': 0.8, '__dense_dropout_2': 0.8, '__dense_dropout_3': 0.8, '__dense_dropout_4': 0.3, '__dense_neurons_1': 128, '__dense_neurons_2': 8, '__dense_neurons_3': 16, '__dense_neurons_4': 32, 'activation_cnn': 'relu', 'activation_dense': 'elu', 'batch_norm': True, 'batch_size': 128, 'class_weight': True, 'dshape': (1, 15, 15, 12), 'epochs': 20, 'l2_reg': 0.01, 'l_r': 1e-05, 'nb_cnn_layers': 2, 'nb_dense_layers': 1, '__dense_neurons': [], '__cnn_neurons': [512]}\n",
    "06/03/2018 12:56:53 AM - INFO - Acc: 86.92%\n",
    "06/03/2018 12:56:53 AM - INFO - UniID: 667\n",
    "06/03/2018 12:56:53 AM - INFO - Mom and Dad: 614 359\n",
    "06/03/2018 12:56:53 AM - INFO - Gen: 7\n",
    "06/03/2018 12:56:53 AM - INFO - Hash: c33634763d76d8de368bb42a89c3e262\n",
    "```"
   ]
  },
  {
   "cell_type": "code",
   "execution_count": 11,
   "metadata": {},
   "outputs": [],
   "source": [
    "PARAMS_4 = {\n",
    "    '__cnn_dropout_1': 0.3, '__cnn_dropout_2': 0.7, '__cnn_dropout_3': 0.2, '__cnn_dropout_4': 0.5,\n",
    "    '__cnn_ksize_1': 1, '__cnn_ksize_2': 6, '__cnn_ksize_3': 5, '__cnn_ksize_4': 6,\n",
    "    '__cnn_neurons_1': 512, '__cnn_neurons_2': 128, '__cnn_neurons_3': 16, '__cnn_neurons_4': 128,\n",
    "    '__dense_dropout_1': 0.8, '__dense_dropout_2': 0.8, '__dense_dropout_3': 0.8, '__dense_dropout_4': 0.3,\n",
    "    '__dense_neurons_1': 128, '__dense_neurons_2': 8, '__dense_neurons_3': 16, '__dense_neurons_4': 32,\n",
    "    'activation_cnn': 'relu',\n",
    "    'activation_dense': 'elu',\n",
    "    'batch_norm': True,\n",
    "    'batch_size': 128,\n",
    "    'class_weight': True,\n",
    "    'dshape': (1, 15, 15, 12),\n",
    "    'epochs': 20,\n",
    "    'l2_reg': 0.01,\n",
    "    'l_r': 1e-05,\n",
    "    'nb_cnn_layers': 2,\n",
    "    'nb_dense_layers': 1\n",
    "}"
   ]
  },
  {
   "cell_type": "markdown",
   "metadata": {},
   "source": [
    "### 5. place\n",
    "\n",
    "```\n",
    "06/03/2018 12:56:53 AM - INFO - {'__cnn_dropout_1': 0.0, '__cnn_dropout_2': 0.5, '__cnn_dropout_3': 0.2, '__cnn_dropout_4': 0.8, '__cnn_ksize_1': 7, '__cnn_ksize_2': 2, '__cnn_ksize_3': 3, '__cnn_ksize_4': 6, '__cnn_neurons_1': 512, '__cnn_neurons_2': 128, '__cnn_neurons_3': 512, '__cnn_neurons_4': 128, '__dense_dropout_1': 0.8, '__dense_dropout_2': 0.8, '__dense_dropout_3': 0.8, '__dense_dropout_4': 0.3, '__dense_neurons_1': 128, '__dense_neurons_2': 256, '__dense_neurons_3': 4, '__dense_neurons_4': 4, 'activation_cnn': 'relu', 'activation_dense': 'elu', 'batch_norm': True, 'batch_size': 128, 'class_weight': True, 'dshape': (1, 15, 15, 12), 'epochs': 20, 'l2_reg': 1, 'l_r': 1e-05, 'nb_cnn_layers': 2, 'nb_dense_layers': 1, '__dense_neurons': [], '__cnn_neurons': [512]}\n",
    "06/03/2018 12:56:53 AM - INFO - Acc: 86.49%\n",
    "06/03/2018 12:56:53 AM - INFO - UniID: 402\n",
    "06/03/2018 12:56:53 AM - INFO - Mom and Dad: 262 282\n",
    "06/03/2018 12:56:53 AM - INFO - Gen: 4\n",
    "06/03/2018 12:56:53 AM - INFO - Hash: 06b597f8388685bbcdb0423f4aa42021\n",
    "```"
   ]
  },
  {
   "cell_type": "code",
   "execution_count": 12,
   "metadata": {},
   "outputs": [],
   "source": [
    "PARAMS_5 = {\n",
    "    '__cnn_dropout_1': 0.0, '__cnn_dropout_2': 0.5, '__cnn_dropout_3': 0.2, '__cnn_dropout_4': 0.8,\n",
    "    '__cnn_ksize_1': 7, '__cnn_ksize_2': 2, '__cnn_ksize_3': 3, '__cnn_ksize_4': 6,\n",
    "    '__cnn_neurons_1': 512, '__cnn_neurons_2': 128, '__cnn_neurons_3': 512, '__cnn_neurons_4': 128,\n",
    "    '__dense_dropout_1': 0.8, '__dense_dropout_2': 0.8, '__dense_dropout_3': 0.8, '__dense_dropout_4': 0.3,\n",
    "    '__dense_neurons_1': 128, '__dense_neurons_2': 256, '__dense_neurons_3': 4, '__dense_neurons_4': 4,\n",
    "    'activation_cnn': 'relu',\n",
    "    'activation_dense': 'elu',\n",
    "    'batch_norm': True,\n",
    "    'batch_size': 128,\n",
    "    'class_weight': True,\n",
    "    'dshape': (1, 15, 15, 12),\n",
    "    'epochs': 20,\n",
    "    'l2_reg': 1,\n",
    "    'l_r': 1e-05,\n",
    "    'nb_cnn_layers': 2,\n",
    "    'nb_dense_layers': 1\n",
    "}"
   ]
  },
  {
   "cell_type": "code",
   "execution_count": 13,
   "metadata": {
    "scrolled": false
   },
   "outputs": [
    {
     "name": "stdout",
     "output_type": "stream",
     "text": [
      "_________________________________________________________________\n",
      "Layer (type)                 Output Shape              Param #   \n",
      "=================================================================\n",
      "conv3d_1 (Conv3D)            (None, 1, 12, 12, 128)    24704     \n",
      "_________________________________________________________________\n",
      "batch_normalization_1 (Batch (None, 1, 12, 12, 128)    512       \n",
      "_________________________________________________________________\n",
      "conv3d_2 (Conv3D)            (None, 1, 9, 9, 8)        16392     \n",
      "_________________________________________________________________\n",
      "batch_normalization_2 (Batch (None, 1, 9, 9, 8)        32        \n",
      "_________________________________________________________________\n",
      "dropout_1 (Dropout)          (None, 1, 9, 9, 8)        0         \n",
      "_________________________________________________________________\n",
      "flatten_1 (Flatten)          (None, 648)               0         \n",
      "_________________________________________________________________\n",
      "dense_1 (Dense)              (None, 512)               332288    \n",
      "_________________________________________________________________\n",
      "batch_normalization_3 (Batch (None, 512)               2048      \n",
      "_________________________________________________________________\n",
      "dense_2 (Dense)              (None, 4)                 2052      \n",
      "=================================================================\n",
      "Total params: 378,028\n",
      "Trainable params: 376,732\n",
      "Non-trainable params: 1,296\n",
      "_________________________________________________________________\n",
      "Epoch 1/30\n",
      "250/250 [==============================] - 6s 22ms/step - loss: 3.4982 - acc: 0.4990 - val_loss: 1.4507 - val_acc: 0.5640\n",
      "Epoch 2/30\n",
      "250/250 [==============================] - 3s 13ms/step - loss: 2.8108 - acc: 0.6321 - val_loss: 1.3966 - val_acc: 0.6346\n",
      "Epoch 3/30\n",
      "250/250 [==============================] - 3s 14ms/step - loss: 2.3026 - acc: 0.7248 - val_loss: 1.2059 - val_acc: 0.6750\n",
      "Epoch 4/30\n",
      "250/250 [==============================] - 3s 13ms/step - loss: 2.1136 - acc: 0.7647 - val_loss: 1.1919 - val_acc: 0.6765\n",
      "Epoch 5/30\n",
      "250/250 [==============================] - 3s 14ms/step - loss: 1.8943 - acc: 0.7897 - val_loss: 1.0772 - val_acc: 0.6880\n",
      "Epoch 6/30\n",
      "250/250 [==============================] - 3s 14ms/step - loss: 1.7509 - acc: 0.7966 - val_loss: 1.0180 - val_acc: 0.7034\n",
      "Epoch 7/30\n",
      "250/250 [==============================] - 3s 14ms/step - loss: 1.6721 - acc: 0.8177 - val_loss: 0.9906 - val_acc: 0.7417\n",
      "Epoch 8/30\n",
      "250/250 [==============================] - 3s 14ms/step - loss: 1.5275 - acc: 0.8444 - val_loss: 1.0585 - val_acc: 0.7292\n",
      "Epoch 9/30\n",
      "250/250 [==============================] - 3s 14ms/step - loss: 1.4822 - acc: 0.8459 - val_loss: 1.0285 - val_acc: 0.7397\n",
      "Epoch 10/30\n",
      "250/250 [==============================] - 3s 13ms/step - loss: 1.4152 - acc: 0.8503 - val_loss: 0.9084 - val_acc: 0.7539\n",
      "Epoch 11/30\n",
      "250/250 [==============================] - 3s 13ms/step - loss: 1.3275 - acc: 0.8568 - val_loss: 0.8792 - val_acc: 0.7620\n",
      "Epoch 12/30\n",
      "250/250 [==============================] - 3s 14ms/step - loss: 1.4556 - acc: 0.8378 - val_loss: 0.8301 - val_acc: 0.7978\n",
      "Epoch 13/30\n",
      "250/250 [==============================] - 3s 13ms/step - loss: 1.3483 - acc: 0.8552 - val_loss: 0.9221 - val_acc: 0.7529\n",
      "Epoch 14/30\n",
      "250/250 [==============================] - 3s 14ms/step - loss: 1.2582 - acc: 0.8695 - val_loss: 0.9640 - val_acc: 0.7289\n",
      "Epoch 15/30\n",
      "250/250 [==============================] - 3s 14ms/step - loss: 1.3390 - acc: 0.8499 - val_loss: 0.9209 - val_acc: 0.7429\n",
      "Epoch 16/30\n",
      "250/250 [==============================] - 3s 14ms/step - loss: 1.2548 - acc: 0.8662 - val_loss: 0.7421 - val_acc: 0.8078\n",
      "Epoch 17/30\n",
      "250/250 [==============================] - 3s 14ms/step - loss: 1.1847 - acc: 0.8772 - val_loss: 0.7889 - val_acc: 0.7691\n",
      "Epoch 18/30\n",
      "250/250 [==============================] - 3s 14ms/step - loss: 1.1383 - acc: 0.8779 - val_loss: 0.7764 - val_acc: 0.8105\n",
      "Epoch 19/30\n",
      "250/250 [==============================] - 3s 14ms/step - loss: 1.0794 - acc: 0.8816 - val_loss: 0.6675 - val_acc: 0.8412\n",
      "Epoch 20/30\n",
      "250/250 [==============================] - 3s 14ms/step - loss: 1.0711 - acc: 0.8849 - val_loss: 0.6645 - val_acc: 0.8392\n",
      "Epoch 21/30\n",
      "250/250 [==============================] - 3s 13ms/step - loss: 1.0360 - acc: 0.8917 - val_loss: 0.7610 - val_acc: 0.7917\n",
      "Epoch 22/30\n",
      "250/250 [==============================] - 3s 13ms/step - loss: 0.9576 - acc: 0.9009 - val_loss: 0.7452 - val_acc: 0.8081\n",
      "Epoch 23/30\n",
      "250/250 [==============================] - 3s 14ms/step - loss: 1.1818 - acc: 0.8788 - val_loss: 0.8238 - val_acc: 0.7532\n",
      "Epoch 24/30\n",
      "250/250 [==============================] - 3s 13ms/step - loss: 1.0931 - acc: 0.8826 - val_loss: 0.9525 - val_acc: 0.7618\n",
      "Epoch 25/30\n",
      "250/250 [==============================] - 3s 14ms/step - loss: 1.0542 - acc: 0.8848 - val_loss: 0.9613 - val_acc: 0.7517\n",
      "Epoch 26/30\n",
      "250/250 [==============================] - 3s 14ms/step - loss: 1.0449 - acc: 0.8883 - val_loss: 0.7830 - val_acc: 0.7740\n",
      "Epoch 27/30\n",
      "250/250 [==============================] - 3s 14ms/step - loss: 1.0177 - acc: 0.8921 - val_loss: 0.8732 - val_acc: 0.7574\n",
      "Epoch 28/30\n",
      "250/250 [==============================] - 3s 14ms/step - loss: 0.9582 - acc: 0.8947 - val_loss: 0.8543 - val_acc: 0.7853\n",
      "Epoch 29/30\n",
      "250/250 [==============================] - 3s 13ms/step - loss: 1.0325 - acc: 0.8940 - val_loss: 0.7931 - val_acc: 0.7652\n",
      "Epoch 30/30\n",
      "250/250 [==============================] - 3s 14ms/step - loss: 0.9610 - acc: 0.9006 - val_loss: 0.7794 - val_acc: 0.7574\n"
     ]
    }
   ],
   "source": [
    "K.clear_session()\n",
    "\n",
    "history, keras_model = train_model_gen(\n",
    "    data_dir='../data/_train/',\n",
    "    norms=NORMS,\n",
    "    class_maps=CLASS_MAPS,\n",
    "    params=PARAMS_2,\n",
    "    steps_per_epoch=250\n",
    ");"
   ]
  },
  {
   "cell_type": "markdown",
   "metadata": {},
   "source": [
    "# What happens when channels one-by-one are being replaced by 0 values?"
   ]
  },
  {
   "cell_type": "code",
   "execution_count": 16,
   "metadata": {},
   "outputs": [
    {
     "name": "stdout",
     "output_type": "stream",
     "text": [
      "Channel: all Validation Loss: 1.07 Validation Precision: 72.25\n",
      "Channel: 0   Validation Loss: 1.06 Validation Precision: 72.43 [0.18]  ---> S1_VH\n",
      "Channel: 1   Validation Loss: 1.27 Validation Precision: 70.07 [-2.18] ---> S1_VV\n",
      "Channel: 2   Validation Loss: 1.83 Validation Precision: 42.5  [-29.75] ---> (B5, 20m res) 705 nm (Vegetation classification, near infrared)\n",
      "Channel: 3   Validation Loss: 3.87 Validation Precision: 52.35 [-19.9] ---> (B6, 20m res) 740 nm (Vegetation classification, near infrared)\n",
      "Channel: 4   Validation Loss: 3.36 Validation Precision: 46.08 [-26.17] ---> (B7, 20m res) 783 nm (Water vapour)\n",
      "Channel: 5   Validation Loss: 2.17 Validation Precision: 46.99 [-25.26] ---> (B8a, 20m res) 865 nm (Vegetation classification, near infrared)\n",
      "Channel: 6   Validation Loss: 3.78 Validation Precision: 30.02 [-42.23] ---> (B11, 20m res) 1610 nm (Snow / ice / cloud discrimination, shortwave infrared)\n",
      "Channel: 7   Validation Loss: 1.18 Validation Precision: 72.82 [0.57]  ---> (B12, 20m res) 2190 nm (Snow / ice / cloud discrimination, shortwave infrared)\n",
      "Channel: 8   Validation Loss: 2.1 Validation Precision: 62.82 [-9.43] ---> (B2, 10m res)  490 nm (blue)\n",
      "Channel: 9   Validation Loss: 2.84 Validation Precision: 58.87 [-13.38] ---> (B3, 10m res) 560 nm (green)\n",
      "Channel: 10  Validation Loss: 1.55 Validation Precision: 63.75 [-8.5]  ---> (B4, 10m res) 665 nm (red)\n",
      "Channel: 11  Validation Loss: 1.72 Validation Precision: 52.62 [-19.63] ---> (B8, 10m res) 842 nm (Vegetation classification, near infrared)\n"
     ]
    }
   ],
   "source": [
    "channel_translate = {\n",
    "    0: 'S1_VH',\n",
    "    1: 'S1_VV',\n",
    "    2: '(B5, 20m res) 705 nm (Vegetation classification, near infrared)',\n",
    "    3: '(B6, 20m res) 740 nm (Vegetation classification, near infrared)',\n",
    "    4: '(B7, 20m res) 783 nm (Water vapour)',\n",
    "    5: '(B8a, 20m res) 865 nm (Vegetation classification, near infrared)',\n",
    "    6: '(B11, 20m res) 1610 nm (Snow / ice / cloud discrimination, shortwave infrared)',\n",
    "    7: '(B12, 20m res) 2190 nm (Snow / ice / cloud discrimination, shortwave infrared)',\n",
    "    8: '(B2, 10m res)  490 nm (blue)',\n",
    "    9: '(B3, 10m res) 560 nm (green)',\n",
    "    10: '(B4, 10m res) 665 nm (red)',\n",
    "    11: '(B8, 10m res) 842 nm (Vegetation classification, near infrared)',\n",
    "    12: 'ndvi',\n",
    "    13: 'ndwi',\n",
    "}\n",
    "\n",
    "results = keras_model.evaluate(valid_data, valid_labels, verbose=9)\n",
    "\n",
    "all_acc = round(results[1] * 100, 2)\n",
    "print('Channel: all Validation Loss:', round(results[0], 2),\n",
    "      'Validation Precision:', all_acc)\n",
    "\n",
    "for ch_nr in range(valid_data.shape[4]):\n",
    "    \n",
    "    test_data = valid_data.copy()\n",
    "    test_data[:, :, :, :, ch_nr] = 0\n",
    "\n",
    "    results = keras_model.evaluate(test_data, valid_labels, verbose=9)\n",
    "    ch_acc = round(results[1] * 100, 2)\n",
    "    \n",
    "    print('Channel:', str(ch_nr).ljust(3), 'Validation Loss:', round(results[0], 2),\n",
    "          'Validation Precision:', str(ch_acc).ljust(5), f'[{round(ch_acc - all_acc, 2)}]'.ljust(7),\n",
    "          f'---> {channel_translate[ch_nr]}')"
   ]
  },
  {
   "cell_type": "markdown",
   "metadata": {},
   "source": [
    "# Find best accuracy recall combo"
   ]
  },
  {
   "cell_type": "code",
   "execution_count": 18,
   "metadata": {},
   "outputs": [
    {
     "name": "stdout",
     "output_type": "stream",
     "text": [
      "4080/4080 [==============================] - 1s 237us/step\n",
      "Validation Loss: 1.0650845494924808 Validation Precision: 0.7225490196078431\n"
     ]
    }
   ],
   "source": [
    "preds = keras_model.predict(valid_data)\n",
    "flat_preds = np.argmax(preds, axis=1)\n",
    "probs = preds.max(axis=1)\n",
    "\n",
    "results = keras_model.evaluate(valid_data, valid_labels)\n",
    "print('Validation Loss:', results[0], 'Validation Precision:', results[1])"
   ]
  },
  {
   "cell_type": "code",
   "execution_count": 19,
   "metadata": {},
   "outputs": [
    {
     "name": "stdout",
     "output_type": "stream",
     "text": [
      "Probs > 0.8  --> Acc: 0.941 Recall: 0.422      | Distribution: [(0, 416), (1, 907), (2, 398)]\n",
      "Probs > 0.81 --> Acc: 0.944 Recall: 0.404      | Distribution: [(0, 404), (1, 852), (2, 392)]\n",
      "Probs > 0.82 --> Acc: 0.947 Recall: 0.382      | Distribution: [(0, 398), (1, 785), (2, 375)]\n",
      "Probs > 0.83 --> Acc: 0.947 Recall: 0.359      | Distribution: [(0, 382), (1, 720), (2, 361)]\n",
      "Probs > 0.84 --> Acc: 0.952 Recall: 0.337      | Distribution: [(0, 364), (1, 667), (2, 344)]\n",
      "Probs > 0.85 --> Acc: 0.952 Recall: 0.319      | Distribution: [(0, 344), (1, 630), (2, 329)]\n",
      "Probs > 0.86 --> Acc: 0.957 Recall: 0.3        | Distribution: [(0, 333), (1, 578), (2, 312)]\n",
      "Probs > 0.87 --> Acc: 0.96  Recall: 0.275      | Distribution: [(0, 311), (1, 518), (2, 291)]\n",
      "Probs > 0.88 --> Acc: 0.965 Recall: 0.239      | Distribution: [(0, 282), (1, 421), (2, 274)]\n",
      "Probs > 0.89 --> Acc: 0.967 Recall: 0.2        | Distribution: [(0, 244), (1, 313), (2, 257)]\n",
      "Probs > 0.9  --> Acc: 0.962 Recall: 0.162      | Distribution: [(0, 222), (1, 202), (2, 238)]\n",
      "Probs > 0.91 --> Acc: 0.957 Recall: 0.13       | Distribution: [(0, 197), (1, 116), (2, 217)]\n",
      "Probs > 0.92 --> Acc: 0.95  Recall: 0.098      | Distribution: [(0, 169), (1, 33), (2, 199)]\n",
      "Probs > 0.93 --> Acc: 0.95  Recall: 0.078      | Distribution: [(0, 130), (1, 16), (2, 174)]\n",
      "Probs > 0.94 --> Acc: 0.948 Recall: 0.066      | Distribution: [(0, 104), (1, 14), (2, 152)]\n",
      "Probs > 0.95 --> Acc: 0.942 Recall: 0.055      | Distribution: [(0, 79), (1, 13), (2, 132)]\n",
      "Probs > 0.96 --> Acc: 0.957 Recall: 0.046      | Distribution: [(0, 58), (1, 8), (2, 122)]\n",
      "Probs > 0.97 --> Acc: 0.98  Recall: 0.037      | Distribution: [(0, 36), (1, 3), (2, 112)]\n",
      "Probs > 0.98 --> Acc: 1.0   Recall: 0.029      | Distribution: [(0, 14), (2, 106)]\n",
      "Probs > 0.99 --> Acc: 1.0   Recall: 0.023      | Distribution: [(2, 93)]\n"
     ]
    }
   ],
   "source": [
    "for acc in np.arange(0.8, 1, 0.01):\n",
    "    high_precision = np.argwhere(probs > acc).flatten()\n",
    "\n",
    "    flat_labels = np.argmax(valid_labels[high_precision], axis=1)\n",
    "    \n",
    "    pred_good = np.sum(flat_labels == flat_preds[high_precision])\n",
    "    accuracy = pred_good / high_precision.shape[0]\n",
    "    recall = high_precision.shape[0] / probs.shape[0]\n",
    "    \n",
    "    bincount = np.bincount(flat_labels.astype(np.int64))\n",
    "    i_i = np.nonzero(bincount)[0]\n",
    "    zip_bin = list(zip(i_i, bincount[i_i]))\n",
    "\n",
    "    print(f\"Probs > {str(round(acc, 3)).ljust(4)} --> Acc: {str(round(accuracy, 3)).ljust(5)} \"\n",
    "          f\"Recall: {str(round(recall, 3)).ljust(10)} | Distribution: {zip_bin}\")"
   ]
  },
  {
   "cell_type": "code",
   "execution_count": 24,
   "metadata": {},
   "outputs": [
    {
     "name": "stdout",
     "output_type": "stream",
     "text": [
      "Label distribution [(0, 733), (1, 2410), (2, 937)]\n"
     ]
    },
    {
     "data": {
      "image/png": "[encoded data removed]",
      "text/plain": [
       "<Figure size 576x576 with 2 Axes>"
      ]
     },
     "metadata": {},
     "output_type": "display_data"
    }
   ],
   "source": [
    "target_names = ['egle', 'priede', 'liepa']\n",
    "\n",
    "# time_stamp = time.time()\n",
    "# if not os.path.exists('reports/{}'.format(time_stamp)):\n",
    "#     os.makedirs('reports/{}'.format(time_stamp))\n",
    "\n",
    "plot_confusion_matrix(\n",
    "    np.argmax(valid_labels, axis=1),\n",
    "    flat_preds,\n",
    "    target_names,\n",
    "    cmap=plt.cm.BuGn\n",
    ")"
   ]
  },
  {
   "cell_type": "code",
   "execution_count": 27,
   "metadata": {},
   "outputs": [
    {
     "name": "stdout",
     "output_type": "stream",
     "text": [
      "Stats saved\n",
      "Keras json model saved. inference_model/model.json\n",
      "Keras h5 model saved. inference_model/model.h5\n"
     ]
    }
   ],
   "source": [
    "import json\n",
    "\n",
    "norms_int = {}\n",
    "\n",
    "for key, val in NORMS.items():\n",
    "    norms_int[key] = [int(_val) for _val in val]\n",
    "stats = {'norms': norms_int, 'maps': CLASS_MAPS}\n",
    "\n",
    "with open('inference_model/stats.json', 'w') as outfile:\n",
    "    json.dump(stats, outfile)\n",
    "    print('Stats saved')\n",
    "\n",
    "save_keras_model(keras_model, 'inference_model/')"
   ]
  },
  {
   "cell_type": "code",
   "execution_count": 36,
   "metadata": {},
   "outputs": [
    {
     "name": "stderr",
     "output_type": "stream",
     "text": [
      "2018-06-05 19:14:43,862 INFO: number of directories found 1\n"
     ]
    },
    {
     "name": "stdout",
     "output_type": "stream",
     "text": [
      "(303, 1, 15, 15, 12)\n"
     ]
    }
   ],
   "source": [
    "test_generator = Generator(\n",
    "    class_maps=CLASS_MAPS,\n",
    "    norms=NORMS,\n",
    "    nb_time=1,\n",
    "    reg_size=15,\n",
    "    vegetation_layers=False,\n",
    "    data_dir='../data/0510_extra_sentinel1/',\n",
    "    batch_size=10000,\n",
    "    batch_size_polygons=1000\n",
    ")\n",
    "\n",
    "test_gen = test_generator.from_files(norm=True, augment=False, match_dir_name='ds_' + str(189))\n",
    "test_data, test_labels = next(test_gen)\n",
    "\n",
    "print(f'{test_data.shape}')"
   ]
  },
  {
   "cell_type": "code",
   "execution_count": 38,
   "metadata": {},
   "outputs": [
    {
     "data": {
      "text/plain": [
       "array([0, 0, 0, 0, 0, 0, 0, 0, 0, 0, 0, 0, 0, 0, 1, 0, 0, 0, 0, 0, 0, 0,\n",
       "       0, 0, 0, 0, 0, 0, 0, 0, 0, 0, 0, 0, 0, 0, 0, 0, 0, 0, 0, 0, 0, 0,\n",
       "       0, 0, 0, 0, 0, 0, 0, 0, 0, 1, 0, 0, 0, 0, 0, 0, 0, 0, 1, 0, 0, 0,\n",
       "       0, 0, 0, 0, 0, 0, 0, 0, 0, 0, 0, 0, 0, 0, 0, 0, 0, 0, 0, 0, 0, 0,\n",
       "       0, 0, 0, 0, 0, 0, 0, 0, 0, 0, 0, 0, 0, 0, 0, 0, 0, 0, 0, 0, 0, 0,\n",
       "       0, 0, 0, 0, 0, 0, 0, 0, 0, 0, 0, 0, 0, 0, 0, 0, 0, 0, 0, 0, 0, 0,\n",
       "       0, 0, 0, 0, 0, 0, 0, 0, 0, 0, 0, 0, 0, 0, 0, 0, 0, 0, 0, 0, 0, 0,\n",
       "       0, 0, 0, 0, 0, 0, 0, 0, 0, 0, 0, 0, 0, 0, 0, 0, 0, 0, 0, 0, 0, 0,\n",
       "       0, 0, 0, 0, 0, 0, 0, 0, 0, 0, 0, 0, 0, 0, 0, 0, 0, 0, 0, 0, 0, 0,\n",
       "       0, 0, 0, 0, 0, 0, 0, 0, 0, 0, 0, 1, 0, 0, 0, 0, 0, 0, 0, 0, 0, 0,\n",
       "       0, 0, 0, 0, 0, 0, 0, 0, 0, 0, 0, 0, 0, 0, 0, 0, 0, 0, 0, 0, 0, 0,\n",
       "       0, 0, 0, 0, 0, 0, 0, 0, 0, 0, 0, 0, 0, 0, 0, 0, 0, 0, 0, 0, 0, 0,\n",
       "       0, 0, 0, 1, 0, 0, 0, 0, 0, 0, 1, 0, 0, 0, 0, 0, 0, 0, 0, 0, 0, 0,\n",
       "       0, 0, 0, 0, 0, 0, 0, 0, 0, 0, 0, 0, 0, 0, 0, 0, 0])"
      ]
     },
     "execution_count": 38,
     "metadata": {},
     "output_type": "execute_result"
    }
   ],
   "source": [
    "np.argmax(keras_model.predict(test_data), axis=1)"
   ]
  },
  {
   "cell_type": "code",
   "execution_count": 39,
   "metadata": {},
   "outputs": [
    {
     "name": "stdout",
     "output_type": "stream",
     "text": [
      "[0 0 0 0 0 0 0 0 0 0 0 0 0 0 0 0 0 0 0 0 0 0 0 0 0 0 0 0 0 0 0 0 0 0 0 0 0\n",
      " 0 0 0 0 0 0 0 0 0 0 0 0 0 0 0 0 0 0 0 0 0 0 0 0 0 0 0 0 0 0 0 0 0 0 0 0 0\n",
      " 0 0 0 0 0 0 0 0 0 0 0 0 0 0 0 0 0 0 0 0 0 0 0 0 0 0 0 0 0 0 0 0 0 0 0 0 0\n",
      " 0 0 0 0 0 0 0 0 0 0 0 0 0 0 0 0 0 0 0 0 0 0 0 0 0 0 0 0 0 0 0 0 0 0 0 0 0\n",
      " 0 0 0 0 0 0 0 0 0 0 0 0 0 0 0 0 0 0 0 0 0 0 0 0 0 0 0 0 0 0 0 0 0 0 0 0 0\n",
      " 0 0 0 0 0 0 0 0 0 0 0 0 0 0 0 0 0 0 0 0 0 0 0 0 0 0 0 0 0 0 0 0 0 0 0 0 0\n",
      " 0 0 0 0 0 0 0 0 0 0 0 0 0 0 0 0 0 0 0 0 0 0 0 0 0 0 0 0 0 0 0 0 0 0 0 0 0\n",
      " 0 0 0 0 0 0 0 0 0 0 0 0 0 0 0 0 0 0 0 0 0 0 0 0 0 0 0 0 0 0 0 0 0 0 0 0 0\n",
      " 0 0 0 0 0 0 0]\n"
     ]
    }
   ],
   "source": [
    "print(np.argmax(test_labels, axis=1))"
   ]
  },
  {
   "cell_type": "code",
   "execution_count": 101,
   "metadata": {},
   "outputs": [
    {
     "data": {
      "text/plain": [
       "<matplotlib.image.AxesImage at 0x7fc5dacc7c50>"
      ]
     },
     "execution_count": 101,
     "metadata": {},
     "output_type": "execute_result"
    },
    {
     "data": {
      "image/png": "[encoded data removed]",
      "text/plain": [
       "<Figure size 432x288 with 1 Axes>"
      ]
     },
     "metadata": {},
     "output_type": "display_data"
    }
   ],
   "source": [
    "x_test = test_set.input_data[0][0, :, :, -1].copy()\n",
    "\n",
    "x_test[x_test > 0] = np.argmax(keras_model.predict(test_set.train_data), axis=1)\n",
    "plt.imshow(x_test * 50)"
   ]
  }
 ],
 "metadata": {
  "kernelspec": {
   "display_name": "Python 3",
   "language": "python",
   "name": "python3"
  },
  "language_info": {
   "codemirror_mode": {
    "name": "ipython",
    "version": 3
   },
   "file_extension": ".py",
   "mimetype": "text/x-python",
   "name": "python",
   "nbconvert_exporter": "python",
   "pygments_lexer": "ipython3",
   "version": "3.6.5"
  }
 },
 "nbformat": 4,
 "nbformat_minor": 2
}
